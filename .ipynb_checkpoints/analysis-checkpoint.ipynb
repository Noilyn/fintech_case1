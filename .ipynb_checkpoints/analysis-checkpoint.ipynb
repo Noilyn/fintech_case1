{
 "cells": [
  {
   "cell_type": "markdown",
   "metadata": {},
   "source": [
    "# 1 Data analysis"
   ]
  },
  {
   "cell_type": "code",
   "execution_count": 19,
   "metadata": {
    "ExecuteTime": {
     "end_time": "2020-03-22T06:54:03.207484Z",
     "start_time": "2020-03-22T06:54:01.072237Z"
    }
   },
   "outputs": [],
   "source": [
    "import pandas as pd\n",
    "import numpy as np\n",
    "df = pd.read_csv('traindata.csv')"
   ]
  },
  {
   "cell_type": "code",
   "execution_count": 12,
   "metadata": {
    "ExecuteTime": {
     "end_time": "2020-03-22T06:45:08.436658Z",
     "start_time": "2020-03-22T06:45:08.401173Z"
    }
   },
   "outputs": [
    {
     "data": {
      "text/html": [
       "<div>\n",
       "<style scoped>\n",
       "    .dataframe tbody tr th:only-of-type {\n",
       "        vertical-align: middle;\n",
       "    }\n",
       "\n",
       "    .dataframe tbody tr th {\n",
       "        vertical-align: top;\n",
       "    }\n",
       "\n",
       "    .dataframe thead th {\n",
       "        text-align: right;\n",
       "    }\n",
       "</style>\n",
       "<table border=\"1\" class=\"dataframe\">\n",
       "  <thead>\n",
       "    <tr style=\"text-align: right;\">\n",
       "      <th></th>\n",
       "      <th>date</th>\n",
       "      <th>item_id</th>\n",
       "      <th>store_code</th>\n",
       "      <th>cate_id</th>\n",
       "      <th>cate_level_id</th>\n",
       "      <th>brand_id</th>\n",
       "      <th>supplier_id</th>\n",
       "      <th>pv_ipv</th>\n",
       "      <th>pv_uv</th>\n",
       "      <th>cart_ipv</th>\n",
       "      <th>...</th>\n",
       "      <th>ss_pv_ipv</th>\n",
       "      <th>jhs_pv_ipv</th>\n",
       "      <th>ztc_pv_uv</th>\n",
       "      <th>tbk_pv_uv</th>\n",
       "      <th>ss_pv_uv</th>\n",
       "      <th>jhs_pv_uv</th>\n",
       "      <th>num_alipay_njhs</th>\n",
       "      <th>amt_alipay_njhs</th>\n",
       "      <th>qty_alipay_njhs</th>\n",
       "      <th>unum_alipay_njhs</th>\n",
       "    </tr>\n",
       "  </thead>\n",
       "  <tbody>\n",
       "    <tr>\n",
       "      <td>0</td>\n",
       "      <td>2015-01-26</td>\n",
       "      <td>127</td>\n",
       "      <td>all</td>\n",
       "      <td>21</td>\n",
       "      <td>11</td>\n",
       "      <td>422</td>\n",
       "      <td>2023</td>\n",
       "      <td>1182</td>\n",
       "      <td>458</td>\n",
       "      <td>4</td>\n",
       "      <td>...</td>\n",
       "      <td>19</td>\n",
       "      <td>166</td>\n",
       "      <td>0</td>\n",
       "      <td>6</td>\n",
       "      <td>14</td>\n",
       "      <td>84</td>\n",
       "      <td>0</td>\n",
       "      <td>0.00</td>\n",
       "      <td>0</td>\n",
       "      <td>0</td>\n",
       "    </tr>\n",
       "    <tr>\n",
       "      <td>1</td>\n",
       "      <td>2015-02-03</td>\n",
       "      <td>127</td>\n",
       "      <td>all</td>\n",
       "      <td>21</td>\n",
       "      <td>11</td>\n",
       "      <td>422</td>\n",
       "      <td>2023</td>\n",
       "      <td>1093</td>\n",
       "      <td>478</td>\n",
       "      <td>30</td>\n",
       "      <td>...</td>\n",
       "      <td>111</td>\n",
       "      <td>0</td>\n",
       "      <td>0</td>\n",
       "      <td>12</td>\n",
       "      <td>65</td>\n",
       "      <td>0</td>\n",
       "      <td>14</td>\n",
       "      <td>16236.55</td>\n",
       "      <td>15</td>\n",
       "      <td>14</td>\n",
       "    </tr>\n",
       "    <tr>\n",
       "      <td>2</td>\n",
       "      <td>2015-08-02</td>\n",
       "      <td>127</td>\n",
       "      <td>all</td>\n",
       "      <td>21</td>\n",
       "      <td>11</td>\n",
       "      <td>422</td>\n",
       "      <td>2023</td>\n",
       "      <td>846</td>\n",
       "      <td>423</td>\n",
       "      <td>14</td>\n",
       "      <td>...</td>\n",
       "      <td>56</td>\n",
       "      <td>0</td>\n",
       "      <td>0</td>\n",
       "      <td>4</td>\n",
       "      <td>39</td>\n",
       "      <td>0</td>\n",
       "      <td>3</td>\n",
       "      <td>2885.40</td>\n",
       "      <td>3</td>\n",
       "      <td>3</td>\n",
       "    </tr>\n",
       "    <tr>\n",
       "      <td>3</td>\n",
       "      <td>2015-02-25</td>\n",
       "      <td>127</td>\n",
       "      <td>all</td>\n",
       "      <td>21</td>\n",
       "      <td>11</td>\n",
       "      <td>422</td>\n",
       "      <td>2023</td>\n",
       "      <td>346</td>\n",
       "      <td>180</td>\n",
       "      <td>8</td>\n",
       "      <td>...</td>\n",
       "      <td>61</td>\n",
       "      <td>0</td>\n",
       "      <td>0</td>\n",
       "      <td>8</td>\n",
       "      <td>48</td>\n",
       "      <td>0</td>\n",
       "      <td>1</td>\n",
       "      <td>910.11</td>\n",
       "      <td>1</td>\n",
       "      <td>1</td>\n",
       "    </tr>\n",
       "    <tr>\n",
       "      <td>4</td>\n",
       "      <td>2015-09-20</td>\n",
       "      <td>127</td>\n",
       "      <td>all</td>\n",
       "      <td>21</td>\n",
       "      <td>11</td>\n",
       "      <td>422</td>\n",
       "      <td>2023</td>\n",
       "      <td>878</td>\n",
       "      <td>398</td>\n",
       "      <td>28</td>\n",
       "      <td>...</td>\n",
       "      <td>27</td>\n",
       "      <td>0</td>\n",
       "      <td>51</td>\n",
       "      <td>5</td>\n",
       "      <td>19</td>\n",
       "      <td>0</td>\n",
       "      <td>7</td>\n",
       "      <td>8703.69</td>\n",
       "      <td>7</td>\n",
       "      <td>6</td>\n",
       "    </tr>\n",
       "  </tbody>\n",
       "</table>\n",
       "<p>5 rows × 32 columns</p>\n",
       "</div>"
      ],
      "text/plain": [
       "         date  item_id store_code  cate_id  cate_level_id  brand_id  \\\n",
       "0  2015-01-26      127        all       21             11       422   \n",
       "1  2015-02-03      127        all       21             11       422   \n",
       "2  2015-08-02      127        all       21             11       422   \n",
       "3  2015-02-25      127        all       21             11       422   \n",
       "4  2015-09-20      127        all       21             11       422   \n",
       "\n",
       "   supplier_id  pv_ipv  pv_uv  cart_ipv  ...  ss_pv_ipv  jhs_pv_ipv  \\\n",
       "0         2023    1182    458         4  ...         19         166   \n",
       "1         2023    1093    478        30  ...        111           0   \n",
       "2         2023     846    423        14  ...         56           0   \n",
       "3         2023     346    180         8  ...         61           0   \n",
       "4         2023     878    398        28  ...         27           0   \n",
       "\n",
       "   ztc_pv_uv  tbk_pv_uv  ss_pv_uv  jhs_pv_uv  num_alipay_njhs  \\\n",
       "0          0          6        14         84                0   \n",
       "1          0         12        65          0               14   \n",
       "2          0          4        39          0                3   \n",
       "3          0          8        48          0                1   \n",
       "4         51          5        19          0                7   \n",
       "\n",
       "   amt_alipay_njhs  qty_alipay_njhs  unum_alipay_njhs  \n",
       "0             0.00                0                 0  \n",
       "1         16236.55               15                14  \n",
       "2          2885.40                3                 3  \n",
       "3           910.11                1                 1  \n",
       "4          8703.69                7                 6  \n",
       "\n",
       "[5 rows x 32 columns]"
      ]
     },
     "execution_count": 12,
     "metadata": {},
     "output_type": "execute_result"
    }
   ],
   "source": [
    "df.head()"
   ]
  },
  {
   "cell_type": "code",
   "execution_count": null,
   "metadata": {},
   "outputs": [],
   "source": [
    "Feature we need directly: \n",
    "    date, item_id, store_code, qty_alipay_njhs"
   ]
  },
  {
   "cell_type": "markdown",
   "metadata": {},
   "source": [
    "Something we should concern about:\n",
    "    qty_alipy_njhs（非聚划算支付人次） can be related to (unum_alipy_njhs(非聚划算支付人数)、 amt_alipy_njhs(非聚划算\n",
    "    支付金额)、 num_alipay_njhs(非聚划算支付金额))\n",
    "    different categories may suit for different inventory strategies\n",
    "    "
   ]
  },
  {
   "cell_type": "markdown",
   "metadata": {
    "ExecuteTime": {
     "end_time": "2020-03-22T07:09:00.037966Z",
     "start_time": "2020-03-22T07:09:00.033713Z"
    }
   },
   "source": [
    "some ideas:\n",
    "    Newsvendor Problem"
   ]
  },
  {
   "cell_type": "markdown",
   "metadata": {},
   "source": [
    "全国仓和各分仓商品类别数"
   ]
  },
  {
   "cell_type": "code",
   "execution_count": 22,
   "metadata": {
    "ExecuteTime": {
     "end_time": "2020-03-22T06:54:50.307279Z",
     "start_time": "2020-03-22T06:54:50.091865Z"
    }
   },
   "outputs": [
    {
     "data": {
      "text/plain": [
       "all    212574\n",
       "4      184901\n",
       "5      182670\n",
       "3      180245\n",
       "1      169977\n",
       "2      167860\n",
       "Name: store_code, dtype: int64"
      ]
     },
     "execution_count": 22,
     "metadata": {},
     "output_type": "execute_result"
    }
   ],
   "source": [
    "# df['store_code'].unique()\n",
    "# print array(['all', '5', '1', '3', '4', '2', 3, 2, 1], dtype=object)\n",
    "df['store_code'] = df['store_code'].astype('str')\n",
    "df['store_code'].value_counts()"
   ]
  },
  {
   "cell_type": "code",
   "execution_count": null,
   "metadata": {},
   "outputs": [],
   "source": []
  }
 ],
 "metadata": {
  "kernelspec": {
   "display_name": "Python 3",
   "language": "python",
   "name": "python3"
  },
  "language_info": {
   "codemirror_mode": {
    "name": "ipython",
    "version": 3
   },
   "file_extension": ".py",
   "mimetype": "text/x-python",
   "name": "python",
   "nbconvert_exporter": "python",
   "pygments_lexer": "ipython3",
   "version": "3.7.4"
  }
 },
 "nbformat": 4,
 "nbformat_minor": 2
}
